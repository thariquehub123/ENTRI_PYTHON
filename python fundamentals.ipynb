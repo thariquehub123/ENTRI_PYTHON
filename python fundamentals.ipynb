{
 "cells": [
  {
   "cell_type": "code",
   "execution_count": 1,
   "id": "c2609a01-fb10-412a-aef6-a67b697a98e6",
   "metadata": {},
   "outputs": [
    {
     "name": "stdout",
     "output_type": "stream",
     "text": [
      "tharique\n",
      "ST0018\n",
      "NR@gmail.com\n"
     ]
    }
   ],
   "source": [
    "#1code that prints name,studentnumber and email\n",
    "print(\"tharique\")\n",
    "print(\"ST0018\")\n",
    "print(\"NR@gmail.com\")"
   ]
  },
  {
   "cell_type": "code",
   "execution_count": 3,
   "id": "bad0af12-dc9c-4557-8cb0-c9c831f4a775",
   "metadata": {},
   "outputs": [
    {
     "name": "stdout",
     "output_type": "stream",
     "text": [
      "name:\ttharique \n",
      "student number:\t29567\n",
      "Email:\tthariqueak@gmail.com\n"
     ]
    }
   ],
   "source": [
    "#2\n",
    "print(\"name:\\ttharique \\nstudent number:\\t29567\\nEmail:\\tthariqueak@gmail.com\")"
   ]
  },
  {
   "cell_type": "code",
   "execution_count": 13,
   "id": "38733046-d601-4d23-9532-97887fa50fe8",
   "metadata": {},
   "outputs": [
    {
     "name": "stdin",
     "output_type": "stream",
     "text": [
      "Enter Num1 40\n",
      "Enter Num2 20\n"
     ]
    },
    {
     "name": "stdout",
     "output_type": "stream",
     "text": [
      "40 + 20 = 60\n",
      "40 - 20 = 20\n",
      "40 * 20 = 800\n",
      "40 / 20 = 2.0\n"
     ]
    }
   ],
   "source": [
    "#3 Code tht add,subtrat and multiply 2 number\n",
    "Num1=int(input(\"Enter Num1\"))\n",
    "Num2=int(input(\"Enter Num2\"))\n",
    "add=Num1+Num2\n",
    "subtract=Num1-Num2\n",
    "multiply=Num1*Num2\n",
    "divide=Num1/Num2\n",
    "print(Num1,\"+\",Num2,\"=\",add)\n",
    "print(Num1,\"-\",Num2,\"=\",subtract)\n",
    "print(Num1,\"*\",Num2,\"=\",multiply)\n",
    "print(Num1,\"/\",Num2,\"=\",divide)"
   ]
  },
  {
   "cell_type": "code",
   "execution_count": 17,
   "id": "324365f9-08dc-4065-b685-eb3f150cf340",
   "metadata": {},
   "outputs": [
    {
     "name": "stdout",
     "output_type": "stream",
     "text": [
      "\n",
      "          1\n",
      "            2\n",
      "              3\n",
      "                4\n",
      "                  5\n",
      "\n"
     ]
    }
   ],
   "source": [
    "#4Code that Pirnts numbers 1 to 5 as steps\n",
    "print (\"\"\"\n",
    "          1\n",
    "            2\n",
    "              3\n",
    "                4\n",
    "                  5\n",
    "\"\"\")"
   ]
  },
  {
   "cell_type": "code",
   "execution_count": 19,
   "id": "ef43783a-39ca-4f25-9aa4-8049d5e40ec7",
   "metadata": {},
   "outputs": [
    {
     "name": "stdout",
     "output_type": "stream",
     "text": [
      "An example run of the program:\n",
      "\"SDK\" stands for \"Software Development Kit\", whereas \"IDE\" stands for \"Integrated Development Environment\".\n"
     ]
    }
   ],
   "source": [
    "#5\n",
    "print('An example run of the program:\\n\"SDK\" stands for \"Software Development Kit\", whereas \"IDE\" stands for \"Integrated Development Environment\".')"
   ]
  },
  {
   "cell_type": "code",
   "execution_count": 21,
   "id": "a16b3f7f-71cb-4857-a9b4-ba5969805eba",
   "metadata": {},
   "outputs": [
    {
     "name": "stdout",
     "output_type": "stream",
     "text": [
      "python is an \"awesome\" language.\n",
      "python\n",
      "\t2023\n",
      "I'm from Entri\n",
      "5\n",
      "e\n",
      "Entri\n",
      "2023\n",
      "Entr2023\n",
      "Entri*20"
     ]
    }
   ],
   "source": [
    "#6 Practice and check the output\n",
    "\n",
    "print(\"python is an \\\"awesome\\\" language.\")\n",
    "print(\"python\\n\\t2023\")\n",
    "print('I\\'m from Entri.\\b')\n",
    "print(\"\\65\")\n",
    "print(\"\\x65\")\n",
    "print(\"Entri\", \"2023\", sep=\"\\n\")\n",
    "print(\"Entri\", \"2023\", sep=\"\\b\")\n",
    "print(\"Entri\", \"2023\", sep=\"*\", end=\"\\b\\b\\b\\b\")"
   ]
  },
  {
   "cell_type": "code",
   "execution_count": 1,
   "id": "ca3dea3a-ffb7-4454-ab7c-540a6ada28af",
   "metadata": {},
   "outputs": [
    {
     "name": "stdout",
     "output_type": "stream",
     "text": [
      "<class 'int'>\n"
     ]
    }
   ],
   "source": [
    "#7 define varibles\n",
    "num=23\n",
    "textnum=\"57\"\n",
    "sums=num+int(textnum)\n",
    "print(type(sums))"
   ]
  },
  {
   "cell_type": "code",
   "execution_count": 7,
   "id": "7f5a214b-6e61-4b7c-b131-7447d1797476",
   "metadata": {},
   "outputs": [
    {
     "name": "stdin",
     "output_type": "stream",
     "text": [
      "enter no of days 10\n"
     ]
    },
    {
     "name": "stdout",
     "output_type": "stream",
     "text": [
      "total_minutes 14400\n"
     ]
    }
   ],
   "source": [
    "#8\n",
    "no_of_days=int(input(\"enter no of days\"))\n",
    "minutes_in_hour=60\n",
    "hours_in_day=24\n",
    "total_no_of_minutes=no_of_days*minutes_in_hour*hours_in_day\n",
    "print(\"total_minutes\",total_no_of_minutes)"
   ]
  },
  {
   "cell_type": "code",
   "execution_count": 9,
   "id": "39ee0570-5d90-4edd-8362-cde9cb2eed79",
   "metadata": {},
   "outputs": [
    {
     "name": "stdin",
     "output_type": "stream",
     "text": [
      "Enter your Name:      tharique\n"
     ]
    },
    {
     "name": "stdout",
     "output_type": "stream",
     "text": [
      "Hi tharique , Welcome to python programming :)\n"
     ]
    }
   ],
   "source": [
    "#9\n",
    "name=input(\"Enter your Name:     \")\n",
    "print(\"Hi\",name,\",\",\"Welcome to python programming :)\")"
   ]
  },
  {
   "cell_type": "code",
   "execution_count": 11,
   "id": "6288be21-6b71-4553-bed3-cdd2d3a76948",
   "metadata": {},
   "outputs": [
    {
     "name": "stdin",
     "output_type": "stream",
     "text": [
      "Enter Money in pounds 10\n"
     ]
    },
    {
     "name": "stdout",
     "output_type": "stream",
     "text": [
      "10 E are $ 12.6\n"
     ]
    }
   ],
   "source": [
    "#10\n",
    "Pounds=int(input(\"Enter Money in pounds\"))\n",
    "Dollars=1.26*Pounds\n",
    "print(Pounds,\"E\",\"are\",\"$\",Dollars)"
   ]
  },
  {
   "cell_type": "code",
   "execution_count": null,
   "id": "d162e1a5-d746-48e6-82aa-58598195e037",
   "metadata": {},
   "outputs": [],
   "source": []
  }
 ],
 "metadata": {
  "kernelspec": {
   "display_name": "Python [conda env:base] *",
   "language": "python",
   "name": "conda-base-py"
  },
  "language_info": {
   "codemirror_mode": {
    "name": "ipython",
    "version": 3
   },
   "file_extension": ".py",
   "mimetype": "text/x-python",
   "name": "python",
   "nbconvert_exporter": "python",
   "pygments_lexer": "ipython3",
   "version": "3.12.7"
  }
 },
 "nbformat": 4,
 "nbformat_minor": 5
}
