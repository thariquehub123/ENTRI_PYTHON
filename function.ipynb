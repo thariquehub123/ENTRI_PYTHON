{
 "cells": [
  {
   "cell_type": "code",
   "execution_count": 5,
   "id": "8242be48-db73-4a9b-a69e-eeac8929e04e",
   "metadata": {},
   "outputs": [
    {
     "name": "stdout",
     "output_type": "stream",
     "text": [
      "lenth of list: 5\n"
     ]
    }
   ],
   "source": [
    "#### Q) What does the len() function do in Python? Write a code example using len() to find the length of a list\n",
    "\n",
    "#example\n",
    "\n",
    "number=[12,22,44,34,67]\n",
    "print(\"lenth of list:\",len(number))"
   ]
  },
  {
   "cell_type": "markdown",
   "id": "f6e4896a-de57-41d6-9614-d1f8748ef45f",
   "metadata": {},
   "source": [
    "The len() function in Python is used to find the number of elements in an object, such as a list, tuple, string, or dictionary.\n"
   ]
  },
  {
   "cell_type": "code",
   "execution_count": 15,
   "id": "bd780083-8f15-408e-a60e-c5972b02dedd",
   "metadata": {},
   "outputs": [
    {
     "name": "stdout",
     "output_type": "stream",
     "text": [
      "hello tharique\n"
     ]
    }
   ],
   "source": [
    "## Write a Python function greet(name) that takes a person's name as input and prints \"Hello, [name]!\".\n",
    "\n",
    "def greet(name):\n",
    "    print(f\"hello {name}\")\n",
    "greet (\"tharique\")"
   ]
  },
  {
   "cell_type": "code",
   "execution_count": 25,
   "id": "04fb1957-4110-499c-b455-a866d374fc4b",
   "metadata": {},
   "outputs": [],
   "source": [
    "## Write a Python function find_maximum(numbers) that takes a list of integers and returns the maximum value without using the built-in max() function. Use a loop to iterate through the list and compare values.\n",
    "\n",
    "def find_maximum(numbers):\n",
    "    if not numbers: \n",
    "        return None\n",
    "    max_num = numbers[0]\n",
    "    for num in numbers:\n",
    "        if num > max_num:\n",
    "            max_num = num\n",
    "    return max_num"
   ]
  },
  {
   "cell_type": "code",
   "execution_count": 27,
   "id": "a16f4738-81bd-494a-88c3-774ea97428b1",
   "metadata": {},
   "outputs": [
    {
     "name": "stdout",
     "output_type": "stream",
     "text": [
      "maximum value: 11\n"
     ]
    }
   ],
   "source": [
    "numbers=[5,7,9,0,8,11]\n",
    "print(\"maximum value:\",find_maximum(numbers))"
   ]
  },
  {
   "cell_type": "code",
   "execution_count": 33,
   "id": "e89b1f63-d526-4761-a0a0-c3ccaf7d3919",
   "metadata": {},
   "outputs": [
    {
     "name": "stdout",
     "output_type": "stream",
     "text": [
      "Inside function, x = 5\n",
      "Outside function, x = 10\n"
     ]
    }
   ],
   "source": [
    "## Explain the difference between local and global variables in a Python function. Write a program where a global variable and a local variable have the same name and show how Python differentiates between them.\n",
    "x = 10  # Global variable\n",
    "def test():\n",
    "    x = 5  # Local variable\n",
    "    print(\"Inside function, x =\", x)\n",
    "test()\n",
    "print(\"Outside function, x =\", x)"
   ]
  },
  {
   "cell_type": "markdown",
   "id": "bd9a9c82-dea6-4e0f-a9f3-8135f90083d8",
   "metadata": {},
   "source": [
    " Local Variables: Defined inside a function and accessible only within that function.\n",
    "\n",
    "Global Variables: Defined outside a function and accessible throughout the script.\n",
    "\n",
    "Inside the function, x = 5 is a local variable and does not affect the global x.\n",
    "\n",
    "Outside the function, x = 10 remains unchanged."
   ]
  },
  {
   "cell_type": "code",
   "execution_count": 43,
   "id": "a83c14fb-6774-42fd-ad55-81c1a53b7ea4",
   "metadata": {},
   "outputs": [],
   "source": [
    "## Create a function calculate_area(length, width=5) that calculates the area of a rectangle. If only the length is provided, the function should assume the width is 5. Show how the function behaves when called with and without the width argument.\n",
    "\n",
    "def calculated_area(length,width=5):\n",
    "     return length * width"
   ]
  },
  {
   "cell_type": "code",
   "execution_count": 45,
   "id": "0f90d9bb-3e79-40a9-a55b-c7052f6703fc",
   "metadata": {},
   "outputs": [
    {
     "name": "stdout",
     "output_type": "stream",
     "text": [
      "area with both length and width: 40\n",
      "area with only length: 40\n"
     ]
    }
   ],
   "source": [
    "print(\"area with both length and width:\",calculated_area(10,4))\n",
    "print(\"area with only length:\",calculated_area(8))"
   ]
  },
  {
   "cell_type": "markdown",
   "id": "0b5f9075-b4f9-4ac4-b104-d9874a00d7f5",
   "metadata": {},
   "source": [
    "if width is not given python takes the default argument value 5 so in the first example we got 8(Value given)*5(default Value)=40\n",
    "\n",
    "in the 2nd Example we have provided both values so the deafult value wont be considered"
   ]
  },
  {
   "cell_type": "code",
   "execution_count": null,
   "id": "57af2005-faa5-45c6-858f-15ea245a53f1",
   "metadata": {},
   "outputs": [],
   "source": []
  }
 ],
 "metadata": {
  "kernelspec": {
   "display_name": "Python [conda env:base] *",
   "language": "python",
   "name": "conda-base-py"
  },
  "language_info": {
   "codemirror_mode": {
    "name": "ipython",
    "version": 3
   },
   "file_extension": ".py",
   "mimetype": "text/x-python",
   "name": "python",
   "nbconvert_exporter": "python",
   "pygments_lexer": "ipython3",
   "version": "3.12.7"
  }
 },
 "nbformat": 4,
 "nbformat_minor": 5
}
