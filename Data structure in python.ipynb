{
 "cells": [
  {
   "cell_type": "code",
   "execution_count": 3,
   "id": "b37fc8be-a00d-4f19-9f3a-476e34b17e7f",
   "metadata": {},
   "outputs": [
    {
     "name": "stdout",
     "output_type": "stream",
     "text": [
      "list: [2, 3, 4, 5, 8]\n"
     ]
    }
   ],
   "source": [
    "### LIST\n",
    "## Q1. Create a list of 5 random numbers and print the list.\n",
    "\n",
    "l1=[2,3,4,5,8]\n",
    "\n",
    "print(\"list:\",l1)"
   ]
  },
  {
   "cell_type": "code",
   "execution_count": 5,
   "id": "824f83ba-8421-4922-abaf-0c5b4846569b",
   "metadata": {},
   "outputs": [
    {
     "name": "stdout",
     "output_type": "stream",
     "text": [
      "update list: [2, 3, 4, 5, 8, 'd47', 66.89]\n"
     ]
    }
   ],
   "source": [
    "## Q2. Insert 3 new values to the list and print the updated list.\n",
    "\n",
    "l1.extend([\"d47\",66.89])\n",
    "print(\"update list:\",l1)"
   ]
  },
  {
   "cell_type": "code",
   "execution_count": 7,
   "id": "01411185-9fa3-421e-81cf-33a52921f1f2",
   "metadata": {},
   "outputs": [
    {
     "name": "stdout",
     "output_type": "stream",
     "text": [
      "2\n",
      "3\n",
      "4\n",
      "5\n",
      "8\n",
      "d47\n",
      "66.89\n"
     ]
    }
   ],
   "source": [
    "## Try to use a for loop to print each element in the list.\n",
    "for i in range (len(l1)):\n",
    "    print (l1[i])"
   ]
  },
  {
   "cell_type": "code",
   "execution_count": 13,
   "id": "d56e58c3-5983-4abe-8755-fa563efd24f0",
   "metadata": {},
   "outputs": [
    {
     "name": "stdout",
     "output_type": "stream",
     "text": [
      "dictionary: {'name': 'john', 'age': 25, 'address': 'newyork'}\n"
     ]
    }
   ],
   "source": [
    "### DICTIONARY\n",
    "## Q1. Create a dictionary with keys 'name', 'age', and 'address' and values 'John', 25, and 'New York' respectively.\n",
    "\n",
    "d1={\"name\":\"john\",\"age\":25,\"address\":\"newyork\"}\n",
    "print(\"dictionary:\",d1)"
   ]
  },
  {
   "cell_type": "code",
   "execution_count": 15,
   "id": "9cd575a2-9e8f-4293-805b-634da5a896ef",
   "metadata": {},
   "outputs": [
    {
     "name": "stdout",
     "output_type": "stream",
     "text": [
      "updated dictionery: {'name': 'john', 'age': 25, 'address': 'newyork', 'phone': '1234567890'}\n"
     ]
    }
   ],
   "source": [
    "## Q2. Add a new key-value pair to the dictionary created in Q1 with key 'phone' and value '1234567890\n",
    "\n",
    "d1[\"phone\"]='1234567890'\n",
    "print(\"updated dictionery:\",d1)"
   ]
  },
  {
   "cell_type": "code",
   "execution_count": 19,
   "id": "d95ded2c-ae90-4cc8-b247-4ac6dbfd073a",
   "metadata": {},
   "outputs": [
    {
     "name": "stdout",
     "output_type": "stream",
     "text": [
      "set: {1, 2, 3, 4, 5}\n"
     ]
    }
   ],
   "source": [
    "### SET\n",
    "## Q1.Create a set with values 1, 2, 3, 4, and 5.\n",
    "\n",
    "st1={1,2,3,4,5}\n",
    "print(\"set:\",st1)\n",
    "    "
   ]
  },
  {
   "cell_type": "code",
   "execution_count": 21,
   "id": "f711f127-2e7b-461e-bb9d-691603721bd5",
   "metadata": {},
   "outputs": [
    {
     "name": "stdout",
     "output_type": "stream",
     "text": [
      "updated set: {1, 2, 3, 4, 5, 6}\n"
     ]
    }
   ],
   "source": [
    "## Q2 Add the value 6 to the set created in Q1.\n",
    "st1.add(6)\n",
    "print(\"updated set:\",st1)"
   ]
  },
  {
   "cell_type": "code",
   "execution_count": 31,
   "id": "b0afb687-5d69-4f59-aa43-68bcdeba8e82",
   "metadata": {},
   "outputs": [
    {
     "name": "stdout",
     "output_type": "stream",
     "text": [
      "updated set by removing : {1, 2, 4, 5, 6}\n"
     ]
    }
   ],
   "source": [
    "## Q3. Remove the value 3 from the set created in Q1.\n",
    "st1.discard(3)\n",
    "print (\"updated set by removing :\",st1)"
   ]
  },
  {
   "cell_type": "code",
   "execution_count": 33,
   "id": "f592131b-68cc-4c1b-a227-93c252e95165",
   "metadata": {},
   "outputs": [
    {
     "name": "stdout",
     "output_type": "stream",
     "text": [
      "tuple : (1, 2, 3, 4)\n"
     ]
    }
   ],
   "source": [
    "### TUPLE\n",
    "## Q1. Create a tuple with values 1, 2, 3, and 4\n",
    "t1=(1,2,3,4)\n",
    "print(\"tuple :\",t1)\n"
   ]
  },
  {
   "cell_type": "code",
   "execution_count": 35,
   "id": "7b24da31-a19d-4516-898e-afb8fe657c68",
   "metadata": {},
   "outputs": [
    {
     "name": "stdout",
     "output_type": "stream",
     "text": [
      "length of tuple: (1, 2, 3, 4)\n"
     ]
    }
   ],
   "source": [
    "len(t1)\n",
    "print(\"length of tuple:\",t1)"
   ]
  },
  {
   "cell_type": "code",
   "execution_count": null,
   "id": "d0554649-db4e-4d30-9e01-e3e30bd7d088",
   "metadata": {},
   "outputs": [],
   "source": []
  }
 ],
 "metadata": {
  "kernelspec": {
   "display_name": "Python [conda env:base] *",
   "language": "python",
   "name": "conda-base-py"
  },
  "language_info": {
   "codemirror_mode": {
    "name": "ipython",
    "version": 3
   },
   "file_extension": ".py",
   "mimetype": "text/x-python",
   "name": "python",
   "nbconvert_exporter": "python",
   "pygments_lexer": "ipython3",
   "version": "3.12.7"
  }
 },
 "nbformat": 4,
 "nbformat_minor": 5
}
