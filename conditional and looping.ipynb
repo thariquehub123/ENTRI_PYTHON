{
 "cells": [
  {
   "cell_type": "code",
   "execution_count": 7,
   "id": "8058506e-be69-4a03-bdbb-639e09675adb",
   "metadata": {},
   "outputs": [
    {
     "name": "stdin",
     "output_type": "stream",
     "text": [
      "enter the number: 3\n"
     ]
    },
    {
     "name": "stdout",
     "output_type": "stream",
     "text": [
      "The coresponding month is : march\n"
     ]
    }
   ],
   "source": [
    "## Write a program that reads an integer value between 1 and 12 from the user and prints output the corresponding month of the year.\n",
    "\n",
    "\n",
    "m=(\"january\",\"february\",\"march\",\"april\",\"may\",\"june\",\"july\",\"august\",\"september\",\"october\",\"november\",\"december\")\n",
    "month_name=int(input(\"enter the number:\" ))\n",
    "\n",
    "if  1<=month_name<=12:\n",
    "    print(\"The coresponding month is :\",m[month_name-1],)\n",
    "else:\n",
    "        print(\"Your number is invalid :)\")"
   ]
  },
  {
   "cell_type": "code",
   "execution_count": 9,
   "id": "49b255b0-fb50-4978-9a68-81e04dda258c",
   "metadata": {},
   "outputs": [
    {
     "name": "stdin",
     "output_type": "stream",
     "text": [
      "enter your age: 10\n"
     ]
    },
    {
     "name": "stdout",
     "output_type": "stream",
     "text": [
      "Your ticket costs is 3.0\n"
     ]
    }
   ],
   "source": [
    "## A certain cinema currently sells tickets for a full price of 6 pounds, but always sells tickets for half price to people who are less than 16 years old,\n",
    "## and for a third of the price for people who are 60 years old or more.\n",
    "\n",
    "ticket_price= 6\n",
    "age=int(input(\"enter your age:\"))\n",
    "\n",
    "if age<16:\n",
    "    price=ticket_price/2\n",
    "elif age>=60:\n",
    "        price=ticket_price/3\n",
    "else:\n",
    "    price=ticket_price\n",
    "print(\"Your ticket costs is\",price)\n",
    "   \n",
    "\n",
    "    \n"
   ]
  },
  {
   "cell_type": "code",
   "execution_count": 76,
   "id": "ccc3e14f-cd8e-4b7f-8a6c-bee9aaa7308e",
   "metadata": {},
   "outputs": [
    {
     "name": "stdin",
     "output_type": "stream",
     "text": [
      "Enter your weight in (kg):  65\n",
      "Enter your height in (m):  165\n"
     ]
    },
    {
     "name": "stdout",
     "output_type": "stream",
     "text": [
      "Your BMI is: 0.0023875114784205694\n",
      "You are in the \"Underweight\" range.\n"
     ]
    }
   ],
   "source": [
    "# Write a program to calculate your BMI and give weight status. Body Mass Index (BMI) is an internationally used measurement to check \n",
    "##if you are a healthy weight for your height.The metric BMI formula accepts weight in kilograms and height in meters:\n",
    "##BMI range = kg/m2  \n",
    "\n",
    "\n",
    "weight = float(input(\"Enter your weight in (kg): \"))\n",
    "height = float(input(\"Enter your height in (m): \"))\n",
    "bmi = (weight / (height ** 2))\n",
    "\n",
    "if bmi < 18.5:\n",
    "    category = \"Underweight\"\n",
    "elif 18.5 <= bmi <= 24.9:\n",
    "    category = \"Normal\"\n",
    "elif 25 <= bmi <= 29.9:\n",
    "    category = \"Overweight\"\n",
    "else:\n",
    "    category = \"Obese\"\n",
    "\n",
    "print(\"Your BMI is:\",bmi)\n",
    "print(f\"You are in the \\\"{category}\\\" range.\")\n",
    "    "
   ]
  },
  {
   "cell_type": "code",
   "execution_count": 5,
   "id": "73360154-45be-4bf6-b41d-54efe28a7797",
   "metadata": {},
   "outputs": [
    {
     "name": "stdin",
     "output_type": "stream",
     "text": [
      "Enter first number:  12\n",
      "Enter second number:  33\n",
      "Enter third number:  5\n"
     ]
    },
    {
     "name": "stdout",
     "output_type": "stream",
     "text": [
      "33 is greatest\n"
     ]
    }
   ],
   "source": [
    "### Write a Python program to receive 3 numbers from the user and print the greatest among them.\n",
    "\n",
    "\n",
    "num1 = int(input(\"Enter first number: \"))\n",
    "num2 = int(input(\"Enter second number: \"))\n",
    "num3 = int(input(\"Enter third number: \"))\n",
    "if(num1>num2 & num2>num3):\n",
    "    print(num1,\"is Greatest\")\n",
    "elif(num2>num1 & num1>num3):\n",
    "    print(num2,\"is greatest\")\n",
    "else:\n",
    "    print(num3,\"is Greatest\")"
   ]
  },
  {
   "cell_type": "code",
   "execution_count": 17,
   "id": "cc703496-31df-4c2d-bb61-38b777a6ed4c",
   "metadata": {},
   "outputs": [
    {
     "name": "stdin",
     "output_type": "stream",
     "text": [
      "enter a number 6\n"
     ]
    },
    {
     "name": "stdout",
     "output_type": "stream",
     "text": [
      "factorial of number is  720\n"
     ]
    }
   ],
   "source": [
    "## Find the factorial of a given number using loops(note the number is received from the user)\n",
    "\n",
    "num=int(input(\"enter a number\"))\n",
    "fact = 1\n",
    "for i in range(1, num + 1):\n",
    "    fact *= i\n",
    "\n",
    "print(\"factorial of number is \",fact)"
   ]
  },
  {
   "cell_type": "code",
   "execution_count": 19,
   "id": "91482264-39f4-41d3-8caa-8fe6176977e3",
   "metadata": {},
   "outputs": [
    {
     "name": "stdin",
     "output_type": "stream",
     "text": [
      "Enter a number:  2478\n"
     ]
    },
    {
     "name": "stdout",
     "output_type": "stream",
     "text": [
      "Reversed number is 8742\n"
     ]
    }
   ],
   "source": [
    "##Reverse a number using while loop\n",
    "\n",
    "num = int(input(\"Enter a number: \"))\n",
    "rev = 0\n",
    "\n",
    "while num > 0:\n",
    "    rev = rev * 10 + num % 10\n",
    "    num //= 10\n",
    "\n",
    "print(f\"Reversed number is {rev}\")"
   ]
  },
  {
   "cell_type": "code",
   "execution_count": 27,
   "id": "3cec8919-93c6-4904-b2d6-c1e634f2f9e6",
   "metadata": {},
   "outputs": [
    {
     "name": "stdin",
     "output_type": "stream",
     "text": [
      "enter the number 5\n",
      "enter the limit 10\n"
     ]
    },
    {
     "name": "stdout",
     "output_type": "stream",
     "text": [
      "5 10 15 20 25 30 35 40 45 50 "
     ]
    }
   ],
   "source": [
    "### Finding the multiples of a number using loop\n",
    "\n",
    "num=int(input(\"enter the number\"))\n",
    "limit=int(input(\"enter the limit\"))\n",
    "\n",
    "for i in range(1, limit + 1):\n",
    " print(num * i, end=\" \")"
   ]
  },
  {
   "cell_type": "code",
   "execution_count": 31,
   "id": "238d1a1f-0b0c-4c9b-bfc4-7be41b8ef43a",
   "metadata": {},
   "outputs": [
    {
     "name": "stdin",
     "output_type": "stream",
     "text": [
      ": hai\n"
     ]
    },
    {
     "name": "stdout",
     "output_type": "stream",
     "text": [
      "hai\n"
     ]
    },
    {
     "name": "stdin",
     "output_type": "stream",
     "text": [
      ": hello\n"
     ]
    },
    {
     "name": "stdout",
     "output_type": "stream",
     "text": [
      "hello\n"
     ]
    },
    {
     "name": "stdin",
     "output_type": "stream",
     "text": [
      ": done\n"
     ]
    },
    {
     "name": "stdout",
     "output_type": "stream",
     "text": [
      "Done\n"
     ]
    }
   ],
   "source": [
    "## Write a program to print the inputed value as it is and break the loop if the value is 'done'.\n",
    "\n",
    "while True:\n",
    "    value = input(\":\")\n",
    "    if value.lower() == \"done\":\n",
    "        print(\"Done\")\n",
    "        break\n",
    "    print(value)"
   ]
  },
  {
   "cell_type": "code",
   "execution_count": 47,
   "id": "70b410b6-75ce-4e8a-9872-ee86972935ba",
   "metadata": {},
   "outputs": [
    {
     "name": "stdout",
     "output_type": "stream",
     "text": [
      "1\n",
      "2\n",
      "Fizz\n",
      "4\n",
      "Buzz\n",
      "Fizz\n",
      "7\n",
      "8\n",
      "Fizz\n",
      "Buzz\n",
      "11\n",
      "Fizz\n",
      "13\n",
      "14\n",
      "FizzBuzz\n"
     ]
    }
   ],
   "source": [
    "## Write a program that prints the numbers from 1 to 10. But for multiples of three print \"Fizz\" instead of the number and for the \n",
    "## multiple of five print \"Buzz\". For numbers which are multiples of both three and five print \"FizzBuzz\"\n",
    "\n",
    "for i in range(1, 16):\n",
    "    if i % 3 == 0 and i % 5 == 0:\n",
    "        print(\"FizzBuzz\")\n",
    "    elif i % 3 == 0:\n",
    "        print(\"Fizz\")\n",
    "    elif i % 5 == 0:\n",
    "        print(\"Buzz\")\n",
    "    else:\n",
    "        print(i)"
   ]
  },
  {
   "cell_type": "code",
   "execution_count": 49,
   "id": "7f23a884-e6e8-4650-96bd-9e09ccd82649",
   "metadata": {},
   "outputs": [
    {
     "name": "stdout",
     "output_type": "stream",
     "text": [
      "5 4 3 2 1 \n",
      "\n",
      "4 3 2 1 \n",
      "\n",
      "3 2 1 \n",
      "\n",
      "2 1 \n",
      "\n",
      "1 \n",
      "\n"
     ]
    }
   ],
   "source": [
    "## Write a program to print the following pattern:\n",
    "n=5\n",
    "for i in range(n,0,-1):\n",
    "    for j in range(i,0,-1):\n",
    "        print(j,end=\" \")\n",
    "    print('\\n')"
   ]
  },
  {
   "cell_type": "code",
   "execution_count": null,
   "id": "b130015f-996b-4cdc-abd5-6112e1537cc3",
   "metadata": {},
   "outputs": [],
   "source": []
  },
  {
   "cell_type": "code",
   "execution_count": null,
   "id": "1b04154c-369f-4c74-8c23-ead1e1970dad",
   "metadata": {},
   "outputs": [],
   "source": []
  }
 ],
 "metadata": {
  "kernelspec": {
   "display_name": "Python [conda env:base] *",
   "language": "python",
   "name": "conda-base-py"
  },
  "language_info": {
   "codemirror_mode": {
    "name": "ipython",
    "version": 3
   },
   "file_extension": ".py",
   "mimetype": "text/x-python",
   "name": "python",
   "nbconvert_exporter": "python",
   "pygments_lexer": "ipython3",
   "version": "3.12.7"
  }
 },
 "nbformat": 4,
 "nbformat_minor": 5
}
