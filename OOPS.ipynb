{
 "cells": [
  {
   "cell_type": "code",
   "execution_count": null,
   "id": "fb935248-71a8-4ee8-b84d-e14f225ac6d3",
   "metadata": {},
   "outputs": [],
   "source": [
    "#"
   ]
  },
  {
   "cell_type": "code",
   "execution_count": 2,
   "id": "92878f1d-491c-4af0-b0db-bc187587265a",
   "metadata": {},
   "outputs": [
    {
     "name": "stdout",
     "output_type": "stream",
     "text": [
      "Course Code: CSA201, Course Name: Python For Data Science, Credit Hours: 3\n",
      "Required for Major: True\n",
      "Course Code: EL256, Course Name: Liberal Arts 101, Credit Hours: 2\n",
      "Elective Type: liberal arts\n"
     ]
    }
   ],
   "source": [
    "class Course:\n",
    "    def __init__(self, course_code, course_name, credit_hours):\n",
    "        self.course_code = course_code\n",
    "        self.course_name = course_name\n",
    "        self.credit_hours = credit_hours\n",
    "\n",
    "    def display_info(self):\n",
    "        print(f\"Course Code: {self.course_code}, Course Name: {self.course_name}, Credit Hours: {self.credit_hours}\")\n",
    "\n",
    "\n",
    "class CoreCourse(Course):\n",
    "    def __init__(self, course_code, course_name, credit_hours, required_for_major):\n",
    "        super().__init__(course_code, course_name, credit_hours)\n",
    "        self.required_for_major = required_for_major\n",
    "\n",
    "    def display_info(self):\n",
    "        super().display_info()\n",
    "        print(f\"Required for Major: {self.required_for_major}\")\n",
    "\n",
    "\n",
    "class ElectiveCourse(Course):\n",
    "    def __init__(self, course_code, course_name, credit_hours, elective_type):\n",
    "        super().__init__(course_code, course_name, credit_hours)\n",
    "        self.elective_type = elective_type\n",
    "\n",
    "    def display_info(self):\n",
    "        super().display_info()\n",
    "        print(f\"Elective Type: {self.elective_type}\")\n",
    "\n",
    "\n",
    "# Example Usage for Question 1\n",
    "core = CoreCourse(\"CSA201\", \"Python For Data Science\", 3, True)\n",
    "elective = ElectiveCourse(\"EL256\", \"Liberal Arts 101\", 2, \"liberal arts\")\n",
    "\n",
    "core.display_info()\n",
    "elective.display_info()\n"
   ]
  },
  {
   "cell_type": "code",
   "execution_count": null,
   "id": "88606bea-4ad5-43be-a0ad-150d4702e95a",
   "metadata": {},
   "outputs": [],
   "source": []
  },
  {
   "cell_type": "code",
   "execution_count": 6,
   "id": "76774052-a42e-4919-8e30-d70f7665191f",
   "metadata": {},
   "outputs": [
    {
     "name": "stdout",
     "output_type": "stream",
     "text": [
      "Employee Name: THARIQUE\n",
      "Employee Salary: 60000\n"
     ]
    }
   ],
   "source": [
    "#Create a Python module named employee that contains a class Employee with attributes name, salary and methods get_name() and get_salary(). Write a program to use this module to create an object of the Employee class and display its name and salary.\n",
    "\n",
    "class Employee:\n",
    "    def __init__(self, name, salary):\n",
    "        self.name = name\n",
    "        self.salary = salary\n",
    "\n",
    "    def get_name(self):\n",
    "        return self.name\n",
    "\n",
    "    def get_salary(self):\n",
    "        return self.salary\n",
    "\n",
    "\n",
    "# Example Usage for Question 2\n",
    "emp = Employee(\"THARIQUE\", 60000)\n",
    "print(f\"Employee Name: {emp.get_name()}\")\n",
    "print(f\"Employee Salary: {emp.get_salary()}\")\n"
   ]
  },
  {
   "cell_type": "code",
   "execution_count": null,
   "id": "26cf37b3-ecb8-4bcf-b544-5017722aea2a",
   "metadata": {},
   "outputs": [],
   "source": []
  }
 ],
 "metadata": {
  "kernelspec": {
   "display_name": "Python [conda env:base] *",
   "language": "python",
   "name": "conda-base-py"
  },
  "language_info": {
   "codemirror_mode": {
    "name": "ipython",
    "version": 3
   },
   "file_extension": ".py",
   "mimetype": "text/x-python",
   "name": "python",
   "nbconvert_exporter": "python",
   "pygments_lexer": "ipython3",
   "version": "3.12.7"
  }
 },
 "nbformat": 4,
 "nbformat_minor": 5
}
