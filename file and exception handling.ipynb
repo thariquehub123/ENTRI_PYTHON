{
 "cells": [
  {
   "cell_type": "code",
   "execution_count": 29,
   "id": "1a2ddfab-5620-4e76-9b54-8d004401235e",
   "metadata": {},
   "outputs": [
    {
     "name": "stdout",
     "output_type": "stream",
     "text": [
      "hai good morning\n",
      "\n"
     ]
    }
   ],
   "source": [
    "## Write a Python program to read a file and display its contents\n",
    "with open(\"C:\\\\Users\\\\user\\\\Desktop\\\\try.txt\", \"r\") as file:\n",
    "    print(file.read())"
   ]
  },
  {
   "cell_type": "code",
   "execution_count": 33,
   "id": "eb3d2043-3142-466b-a5db-a73ff3ccfd57",
   "metadata": {},
   "outputs": [],
   "source": [
    "##Write a Python program to copy the contents of one file to another file\n",
    "with open(\"C:\\\\Users\\\\user\\\\Desktop\\\\try.txt\", \"r\") as file1, open(\"C:\\\\Users\\\\user\\\\Desktop\\\\try.txt\", \"w\") as file2:\n",
    "      file2.write(file1.read())\n"
   ]
  },
  {
   "cell_type": "code",
   "execution_count": 39,
   "id": "b1a14402-680b-40e8-b14e-f825ed9edf8a",
   "metadata": {},
   "outputs": [
    {
     "name": "stdout",
     "output_type": "stream",
     "text": [
      "Total number of words: 0\n"
     ]
    }
   ],
   "source": [
    "##Write a Python program to read the content of a file and count the total number of words in that file.\n",
    "with open(\"C:\\\\Users\\\\user\\\\Desktop\\\\try.txt\", \"r\")as file:\n",
    "    content = file.read()\n",
    "    word_count = len(content.split())\n",
    "    print(f\"Total number of words: {word_count}\")"
   ]
  },
  {
   "cell_type": "code",
   "execution_count": 45,
   "id": "9266e46e-6ab8-4a07-b979-4e5c2a0530ef",
   "metadata": {},
   "outputs": [
    {
     "name": "stdin",
     "output_type": "stream",
     "text": [
      "Enter a number:  hai\n"
     ]
    },
    {
     "name": "stdout",
     "output_type": "stream",
     "text": [
      "Invalid input. Please enter a valid integer.\n"
     ]
    }
   ],
   "source": [
    "## Write a Python program that prompts the user to input a string and converts it to an integer. Use try-except blocks to handle any exceptions that might occu\n",
    "try:\n",
    "    user_input = input(\"Enter a number: \")\n",
    "    number = int(user_input)\n",
    "    print(f\"Converted number: {number}\")\n",
    "except ValueError:\n",
    "    print(\"Invalid input. Please enter a valid integer.\")\n",
    "\n",
    "\n"
   ]
  },
  {
   "cell_type": "code",
   "execution_count": 49,
   "id": "7a122148-9e51-46f3-8851-5f27dac1489b",
   "metadata": {},
   "outputs": [
    {
     "name": "stdin",
     "output_type": "stream",
     "text": [
      "Enter a list of integers:  -2\n"
     ]
    },
    {
     "name": "stdout",
     "output_type": "stream",
     "text": [
      "Error: Negative integer found.\n"
     ]
    }
   ],
   "source": [
    "## Write a Python program that prompts the user to input a list of integers and raises an exception if any of the integers in the list are negative.\n",
    "\n",
    "try:\n",
    "    nums = list(map(int, input(\"Enter a list of integers: \").split()))\n",
    "    for num in nums:\n",
    "        if num < 0:\n",
    "            raise ValueError(\"Negative integer found.\")\n",
    "    print(\"All numbers are non-negative.\")\n",
    "except ValueError as e:\n",
    "    print(f\"Error: {e}\")"
   ]
  },
  {
   "cell_type": "code",
   "execution_count": 53,
   "id": "38ca483f-a09e-4ee7-bca1-9d85e446adce",
   "metadata": {},
   "outputs": [
    {
     "name": "stdin",
     "output_type": "stream",
     "text": [
      "Enter a list of integers:  4,8,6,7\n"
     ]
    },
    {
     "name": "stdout",
     "output_type": "stream",
     "text": [
      "Invalid input. Please enter only integers.\n",
      "Program execution finished.\n"
     ]
    }
   ],
   "source": [
    "#Write a Python program that prompts the user to input a list of integers and computes the average of those integers. Use try-except blocks to handle any exceptions that might occur.use the finally clause to print a message indicating that the program has finished running.\n",
    "\n",
    "try:\n",
    "    nums = list(map(int, input(\"Enter a list of integers: \").split()))\n",
    "    average = sum(nums) / len(nums)\n",
    "    print(f\"Average: {average}\")\n",
    "except ZeroDivisionError:\n",
    "    print(\"Error: Cannot divide by zero.\")\n",
    "except ValueError:\n",
    "    print(\"Invalid input. Please enter only integers.\")\n",
    "finally:\n",
    "    print(\"Program execution finished.\")"
   ]
  },
  {
   "cell_type": "code",
   "execution_count": 55,
   "id": "188d1d25-443c-4252-9ffd-32ce6b0745dd",
   "metadata": {},
   "outputs": [
    {
     "name": "stdin",
     "output_type": "stream",
     "text": [
      "Enter the filename:  try\n",
      "Enter the content to write:  good morning\n"
     ]
    },
    {
     "name": "stdout",
     "output_type": "stream",
     "text": [
      "Content written successfully.\n",
      "Welcome to the program!\n"
     ]
    }
   ],
   "source": [
    "#Write a Python program that prompts the user to input a filename and writes a string to that file. Use try-except blocks to handle any exceptions that might occur and print a welcome message if there is no exception occurred.\n",
    "\n",
    "try:\n",
    "    filename = input(\"Enter the filename: \")\n",
    "    content = input(\"Enter the content to write: \")\n",
    "    with open(filename, \"w\") as file:\n",
    "        file.write(content)\n",
    "    print(\"Content written successfully.\")\n",
    "    print(\"Welcome to the program!\")\n",
    "except Exception as e:\n",
    "    print(f\"An error occurred: {e}\")\n"
   ]
  },
  {
   "cell_type": "code",
   "execution_count": null,
   "id": "fc9a581b-f91f-49e4-bf35-f31c5396dff3",
   "metadata": {},
   "outputs": [],
   "source": []
  }
 ],
 "metadata": {
  "kernelspec": {
   "display_name": "Python [conda env:base] *",
   "language": "python",
   "name": "conda-base-py"
  },
  "language_info": {
   "codemirror_mode": {
    "name": "ipython",
    "version": 3
   },
   "file_extension": ".py",
   "mimetype": "text/x-python",
   "name": "python",
   "nbconvert_exporter": "python",
   "pygments_lexer": "ipython3",
   "version": "3.12.7"
  }
 },
 "nbformat": 4,
 "nbformat_minor": 5
}
