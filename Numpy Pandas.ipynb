{
 "cells": [
  {
   "cell_type": "code",
   "execution_count": 1,
   "id": "f8d9be39-5586-4a44-9c6d-8700c3906a81",
   "metadata": {},
   "outputs": [
    {
     "name": "stdout",
     "output_type": "stream",
     "text": [
      "[[ 1  2  3  4  5]\n",
      " [ 6  7  8  9 10]]\n"
     ]
    }
   ],
   "source": [
    "#Create a numpy array containing the numbers from 1 to 10, and then reshape it to a 2x5 matrix.\n",
    "import numpy as np\n",
    "\n",
    "# Create array from 1 to 10\n",
    "arr = np.arange(1, 11)\n",
    "\n",
    "# Reshape to 2x5 matrix\n",
    "reshaped_arr = arr.reshape(2, 5)\n",
    "\n",
    "print(reshaped_arr)\n"
   ]
  },
  {
   "cell_type": "code",
   "execution_count": 3,
   "id": "9af2acda-3d04-4252-9581-5de1fcc6f11e",
   "metadata": {},
   "outputs": [
    {
     "name": "stdout",
     "output_type": "stream",
     "text": [
      "[ 6  7  8  9 10 11 12 13 14 15]\n"
     ]
    }
   ],
   "source": [
    "#Create a numpy array containing the numbers from 1 to 20, and then extract the elements between the 5th and 15th index.\n",
    "# Create array from 1 to 20\n",
    "arr = np.arange(1, 21)\n",
    "\n",
    "# Extract elements from index 5 to 14 (15 is excluded)\n",
    "extracted = arr[5:15]\n",
    "\n",
    "print(extracted)"
   ]
  },
  {
   "cell_type": "code",
   "execution_count": 5,
   "id": "198128cd-dce0-40db-813d-c474e8393b6a",
   "metadata": {},
   "outputs": [
    {
     "name": "stdout",
     "output_type": "stream",
     "text": [
      "apples     3\n",
      "bananas    2\n",
      "oranges    1\n",
      "pears      4\n",
      "dtype: int64\n"
     ]
    }
   ],
   "source": [
    "#Create a Pandas series with the following data: {'apples': 3, 'bananas': 2, 'oranges': 1}. Then, add a new item to the series with the key 'pears' and the value 4.\n",
    "import pandas as pd\n",
    "\n",
    "# Create initial Series\n",
    "fruits = pd.Series({'apples': 3, 'bananas': 2, 'oranges': 1})\n",
    "\n",
    "# Add new item\n",
    "fruits['pears'] = 4\n",
    "\n",
    "print(fruits)"
   ]
  },
  {
   "cell_type": "code",
   "execution_count": 7,
   "id": "024c230a-ce79-43c9-9d95-6cc68f9745a3",
   "metadata": {},
   "outputs": [
    {
     "name": "stdout",
     "output_type": "stream",
     "text": [
      "      name  age  gender\n",
      "0    Alice   25  Female\n",
      "1      Bob   30    Male\n",
      "2  Charlie   22    Male\n",
      "3    Diana   28  Female\n",
      "4    Ethan   35    Male\n",
      "5    Fiona   24  Female\n",
      "6   George   27    Male\n",
      "7   Hannah   26  Female\n",
      "8      Ian   29    Male\n",
      "9    Julia   31  Female\n"
     ]
    }
   ],
   "source": [
    "#Create a dataframe with the following columns: name, age, and gender. The dataframe should have 10 rows of data.\n",
    "\n",
    "data = {\n",
    "    'name': ['Alice', 'Bob', 'Charlie', 'Diana', 'Ethan', \n",
    "             'Fiona', 'George', 'Hannah', 'Ian', 'Julia'],\n",
    "    'age': [25, 30, 22, 28, 35, 24, 27, 26, 29, 31],\n",
    "    'gender': ['Female', 'Male', 'Male', 'Female', 'Male', \n",
    "               'Female', 'Male', 'Female', 'Male', 'Female']\n",
    "}\n",
    "\n",
    "# Create DataFrame\n",
    "df = pd.DataFrame(data)\n",
    "\n",
    "print(df)"
   ]
  },
  {
   "cell_type": "code",
   "execution_count": 9,
   "id": "574959fc-9e7c-4069-acc6-bda6ff35b84d",
   "metadata": {},
   "outputs": [
    {
     "name": "stdout",
     "output_type": "stream",
     "text": [
      "      name  age  gender  occupation\n",
      "0    Alice   25  Female  Programmer\n",
      "1      Bob   30    Male     Manager\n",
      "2  Charlie   22    Male     Analyst\n",
      "3    Diana   28  Female  Programmer\n",
      "4    Ethan   35    Male     Manager\n",
      "5    Fiona   24  Female     Analyst\n",
      "6   George   27    Male  Programmer\n",
      "7   Hannah   26  Female     Manager\n",
      "8      Ian   29    Male     Analyst\n",
      "9    Julia   31  Female  Programmer\n"
     ]
    }
   ],
   "source": [
    "# Add 'occupation' column (repeating values to match 10 rows)\n",
    "occupations = ['Programmer', 'Manager', 'Analyst'] * 3 + ['Programmer']  # Total 10 values\n",
    "df['occupation'] = occupations\n",
    "\n",
    "print(df)"
   ]
  },
  {
   "cell_type": "code",
   "execution_count": 11,
   "id": "b84c04a7-7fff-4234-9efa-e286e8603af6",
   "metadata": {},
   "outputs": [
    {
     "name": "stdout",
     "output_type": "stream",
     "text": [
      "    name  age  gender  occupation\n",
      "1    Bob   30    Male     Manager\n",
      "4  Ethan   35    Male     Manager\n",
      "9  Julia   31  Female  Programmer\n"
     ]
    }
   ],
   "source": [
    "#Select the rows of the dataframe where the age is greater than or equal to 30.\n",
    "age_filtered_df = df[df['age'] >= 30]\n",
    "\n",
    "print(age_filtered_df)\n"
   ]
  },
  {
   "cell_type": "code",
   "execution_count": 13,
   "id": "df545ef1-3323-43d0-a181-022731a36275",
   "metadata": {},
   "outputs": [],
   "source": [
    "#Convert this dataframe to a csv file and read that csv file, finally display the contents.\n",
    "df.to_csv('people_data.csv', index=False)\n"
   ]
  },
  {
   "cell_type": "code",
   "execution_count": 15,
   "id": "0a77f7f9-c33a-49d4-8c4a-741ad5a2ea28",
   "metadata": {},
   "outputs": [],
   "source": [
    "df_from_csv = pd.read_csv('people_data.csv')\n"
   ]
  },
  {
   "cell_type": "code",
   "execution_count": 17,
   "id": "5827a8d7-7c55-4788-9440-370208e8c602",
   "metadata": {},
   "outputs": [
    {
     "name": "stdout",
     "output_type": "stream",
     "text": [
      "      name  age  gender  occupation\n",
      "0    Alice   25  Female  Programmer\n",
      "1      Bob   30    Male     Manager\n",
      "2  Charlie   22    Male     Analyst\n",
      "3    Diana   28  Female  Programmer\n",
      "4    Ethan   35    Male     Manager\n",
      "5    Fiona   24  Female     Analyst\n",
      "6   George   27    Male  Programmer\n",
      "7   Hannah   26  Female     Manager\n",
      "8      Ian   29    Male     Analyst\n",
      "9    Julia   31  Female  Programmer\n"
     ]
    }
   ],
   "source": [
    "print(df_from_csv)"
   ]
  },
  {
   "cell_type": "code",
   "execution_count": null,
   "id": "687e9a48-d96b-456b-958c-b97b1ae86070",
   "metadata": {},
   "outputs": [],
   "source": []
  }
 ],
 "metadata": {
  "kernelspec": {
   "display_name": "Python [conda env:base] *",
   "language": "python",
   "name": "conda-base-py"
  },
  "language_info": {
   "codemirror_mode": {
    "name": "ipython",
    "version": 3
   },
   "file_extension": ".py",
   "mimetype": "text/x-python",
   "name": "python",
   "nbconvert_exporter": "python",
   "pygments_lexer": "ipython3",
   "version": "3.12.7"
  }
 },
 "nbformat": 4,
 "nbformat_minor": 5
}
